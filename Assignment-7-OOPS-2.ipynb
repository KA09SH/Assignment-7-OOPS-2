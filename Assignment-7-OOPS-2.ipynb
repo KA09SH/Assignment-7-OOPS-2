{
 "cells": [
  {
   "cell_type": "code",
   "execution_count": 2,
   "id": "836adaca",
   "metadata": {},
   "outputs": [
    {
     "name": "stdout",
     "output_type": "stream",
     "text": [
      "Subject is Maths\n",
      "Subject is Physics\n",
      "Subject is Chemistry\n",
      "Subject is English\n"
     ]
    }
   ],
   "source": [
    "#Q1. What is Abstraction in OOPs? Explain with an example.\n",
    "\n",
    "#A.\n",
    "#. It hides unnecessary code details from the user. \n",
    "#. Also, when we do not want to give out sensitive parts of our code implementation and this is where data abstraction came.\n",
    "#. Data Abstraction in Python can be achieved by creating abstract classes.\n",
    "\n",
    "# abstraction in python\n",
    "from abc import ABC, abstractmethod\n",
    "\n",
    "# abstract class\n",
    "class Subject(ABC):\n",
    "    @abstractmethod\n",
    "    def subject(self):\n",
    "        pass\n",
    "    \n",
    "class Maths(Subject):\n",
    "    # override superclass method\n",
    "    def subject(self):\n",
    "        print(\"Subject is Maths\")\n",
    "        \n",
    "        \n",
    "class Physics(Subject):\n",
    "    # override superclass method\n",
    "    def subject(self):\n",
    "        print(\"Subject is Physics\")\n",
    "        \n",
    "class Chemistry(Subject):\n",
    "    # override superclass method\n",
    "    def subject(self):\n",
    "        print(\"Subject is Chemistry\")\n",
    "        \n",
    "class English(Subject):\n",
    "    # override superclass method\n",
    "    def subject(self):\n",
    "        print(\"Subject is English\")\n",
    "        \n",
    "maths=Maths()\n",
    "maths.subject()\n",
    "physics=Physics()\n",
    "physics.subject()\n",
    "chemistry=Chemistry()\n",
    "chemistry.subject()\n",
    "english=English()\n",
    "english.subject()"
   ]
  },
  {
   "cell_type": "code",
   "execution_count": 7,
   "id": "cc23c36b",
   "metadata": {},
   "outputs": [
    {
     "name": "stdout",
     "output_type": "stream",
     "text": [
      "SHUBHAM\n",
      "HOSUR ROAD,BANGALORE ASDFXXXX6C 987654321\n",
      "Indian Python Programming B+\n"
     ]
    }
   ],
   "source": [
    "#Q2. Differentiate between Abstraction and Encapsulation. Explain with an example.\n",
    "\n",
    "#A.\n",
    "#. Encapsulation means storing or placing data in a single place to make it easily readable and compact in one place. \n",
    "\n",
    "#. Whereas data abstraction in python programming means to hide internal functionalities that are performing on the application using codes and to show only essential information (class attributes).\n",
    "\n",
    "\n",
    "class Person:\n",
    "    def __init__(self):\n",
    "        self.name = \"SHUBHAM\"\n",
    "\n",
    "    def bio(self):\n",
    "        self.addr = \"HOSUR ROAD,BANGALORE\"\n",
    "        self.taxInfo = \"ASDFXXXX6C\"\n",
    "        self.contact = \"987654321\"\n",
    "        print(self.addr, self.taxInfo, self.contact)\n",
    "\n",
    "    def interest(self):\n",
    "        self.favFood = \"Indian\"\n",
    "        self.hobbies = \"Python Programming\"\n",
    "        self.bloodGroup = \"B+\"\n",
    "        print(self.favFood, self.hobbies, self.bloodGroup)\n",
    "\n",
    "obj = Person()\n",
    "print(obj.name)\n",
    "obj.bio()\n",
    "obj.interest()\n"
   ]
  },
  {
   "cell_type": "code",
   "execution_count": null,
   "id": "c44c42f1",
   "metadata": {},
   "outputs": [],
   "source": [
    "#Q3. What is abc module in python? Why is it used?\n",
    "\n",
    "#A.\n",
    "#. The abc module provides the infrastructure for defining abstract base classes (ABCs) in Python.\n",
    "#. An abstract base class is a class that is used as a blueprint for other classes. \n",
    "#. Abstract base classes are a powerful feature in Python since they help you define a blueprint for other classes that may have something in common.\n",
    "\n"
   ]
  },
  {
   "cell_type": "code",
   "execution_count": null,
   "id": "a4840e1a",
   "metadata": {},
   "outputs": [],
   "source": [
    "#Q4. How can we achieve data abstraction?\n",
    "\n",
    "#A. In Python, data abstraction can be achieved by using abstract classes and interfaces. \n",
    "#.  A class that consists of one or more abstract method is called the abstract class. \n",
    "#.  Abstract methods do not contain their implementation.\n"
   ]
  },
  {
   "cell_type": "code",
   "execution_count": null,
   "id": "42b995e0",
   "metadata": {},
   "outputs": [],
   "source": [
    "#Q5. Can we create an instance of an abstract class? Explain your answer.\n",
    "\n",
    "#A.\n",
    "#. Abstract classes are not complete, as they may have some methods that are not defined. \n",
    "#. So we cannot create an instance or object of an abstract class in Python.\n",
    "\n",
    "\n"
   ]
  }
 ],
 "metadata": {
  "kernelspec": {
   "display_name": "Python 3 (ipykernel)",
   "language": "python",
   "name": "python3"
  },
  "language_info": {
   "codemirror_mode": {
    "name": "ipython",
    "version": 3
   },
   "file_extension": ".py",
   "mimetype": "text/x-python",
   "name": "python",
   "nbconvert_exporter": "python",
   "pygments_lexer": "ipython3",
   "version": "3.10.9"
  }
 },
 "nbformat": 4,
 "nbformat_minor": 5
}
